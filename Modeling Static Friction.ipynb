{
 "cells": [
  {
   "cell_type": "code",
   "execution_count": 8,
   "metadata": {
    "collapsed": true
   },
   "outputs": [],
   "source": [
    "%matplotlib inline"
   ]
  },
  {
   "cell_type": "markdown",
   "metadata": {},
   "source": [
    "# Modeling Static Friction"
   ]
  },
  {
   "cell_type": "markdown",
   "metadata": {},
   "source": [
    "### Paul Nator and Hussain Hassan"
   ]
  },
  {
   "cell_type": "markdown",
   "metadata": {
    "collapsed": true
   },
   "source": [
    "### Introduction"
   ]
  },
  {
   "cell_type": "markdown",
   "metadata": {},
   "source": [
    "### Procedure"
   ]
  },
  {
   "cell_type": "markdown",
   "metadata": {},
   "source": [
    "Place object on a flat surface. Using a spring scale attached to object, pull along surface to determine how much force is required to move. Afterwards, apply additional masses, increasing the weight and determine the max amount of force of static friction."
   ]
  },
  {
   "cell_type": "markdown",
   "metadata": {
    "collapsed": true
   },
   "source": [
    "### Data & Analysis"
   ]
  },
  {
   "cell_type": "markdown",
   "metadata": {},
   "source": [
    "| m(g) | x(N) |\n",
    "|------|------|\n",
    "|0| 0.5|\n",
    "|100| 0.65|\n",
    "|200| 0.975|\n",
    "|300| 1.35|\n",
    "|400| 1.85|\n",
    "|500| 2.25|"
   ]
  },
  {
   "cell_type": "code",
   "execution_count": 29,
   "metadata": {
    "collapsed": false
   },
   "outputs": [
    {
     "name": "stdout",
     "output_type": "stream",
     "text": [
      "0.00363571428544 0.353571429197\n"
     ]
    },
    {
     "data": {
      "image/png": "[encoded data removed]",
      "text/plain": [
       "<matplotlib.figure.Figure at 0x7f64a58>"
      ]
     },
     "metadata": {},
     "output_type": "display_data"
    }
   ],
   "source": [
    "import matplotlib.pyplot as plt\n",
    "import numpy as np\n",
    "from scipy.optimize import curve_fit\n",
    "x = [0,100,200,300,400,500]\n",
    "y = [0.5,0.65,0.975,1.35,1.85,2.25]\n",
    "def line(x, a, b):\n",
    "    return(a*x + b)\n",
    "a,b = curve_fit(line, x, y,)[0]\n",
    "print(a, b)\n",
    "plt.plot(x, y, 'k.')\n",
    "plt.xlabel('Mass(g)')\n",
    "plt.ylabel('Net Force(N)')\n",
    "plt.title('Static Friction Model')\n",
    "xx = np.linspace(0, 500, 3.0)\n",
    "plt.plot (xx,line(xx,a, b))\n",
    "plt.show()"
   ]
  },
  {
   "cell_type": "code",
   "execution_count": null,
   "metadata": {
    "collapsed": true
   },
   "outputs": [],
   "source": []
  }
 ],
 "metadata": {
  "kernelspec": {
   "display_name": "Python 3",
   "language": "python",
   "name": "python3"
  },
  "language_info": {
   "codemirror_mode": {
    "name": "ipython",
    "version": 3
   },
   "file_extension": ".py",
   "mimetype": "text/x-python",
   "name": "python",
   "nbconvert_exporter": "python",
   "pygments_lexer": "ipython3",
   "version": "3.4.4"
  }
 },
 "nbformat": 4,
 "nbformat_minor": 0
}
