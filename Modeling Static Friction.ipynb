{
 "cells": [
  {
   "cell_type": "code",
   "execution_count": 1,
   "metadata": {
    "collapsed": true
   },
   "outputs": [],
   "source": [
    "%matplotlib inline"
   ]
  },
  {
   "cell_type": "markdown",
   "metadata": {},
   "source": [
    "# Modeling Static Friction"
   ]
  },
  {
   "cell_type": "markdown",
   "metadata": {},
   "source": [
    "### Paul Nator and Hussain Hassan"
   ]
  },
  {
   "cell_type": "markdown",
   "metadata": {},
   "source": [
    "### Procedure"
   ]
  },
  {
   "cell_type": "markdown",
   "metadata": {},
   "source": [
    "Place an object on a flat surface. Using a spring scale attached to the object, pull along the surface to determine how much force is required to move. Afterwards, apply additional masses, increasing the weight and determine the max amount of force of static friction. Then you use the same flat surface, and use it as a ramp. Place the box on the ramp and using the spring scale, pull along the surface to determine the new net force required to move it. Afterwards, apply additional masses in the box, to increase the weight and figure out the new net force."
   ]
  },
  {
   "cell_type": "markdown",
   "metadata": {
    "collapsed": true
   },
   "source": [
    "### Data & Analysis"
   ]
  },
  {
   "cell_type": "markdown",
   "metadata": {},
   "source": [
    "| m(g) | x(N) |y(N)|\n",
    "|------|------|------|\n",
    "|0| 0.7| 1.25|\n",
    "|100| 0.95| 1.8|\n",
    "|200| 1.4| 2.45|\n",
    "|300| 1.8| 3|\n",
    "|400| 2.25| 3.9|\n",
    "|500| 2.45| 4.4|"
   ]
  },
  {
   "cell_type": "markdown",
   "metadata": {},
   "source": [
    "| m(g) | x(N) |\n",
    "|------|------|\n",
    "|0| 0.7|\n",
    "|100| 0.95|\n",
    "|200| 1.4|\n",
    "|300| 1.8|\n",
    "|400| 2.25|\n",
    "|500| 2.45|"
   ]
  },
  {
   "cell_type": "code",
   "execution_count": 24,
   "metadata": {
    "collapsed": false,
    "scrolled": true
   },
   "outputs": [
    {
     "name": "stdout",
     "output_type": "stream",
     "text": [
      "0.0037285714264 0.659523809523\n",
      "0.00441971428354 1.18557142857\n"
     ]
    },
    {
     "data": {
      "image/png": "[encoded data removed]",
      "text/plain": [
       "<matplotlib.figure.Figure at 0x83207f0>"
      ]
     },
     "metadata": {},
     "output_type": "display_data"
    }
   ],
   "source": [
    "import matplotlib.pyplot as plt\n",
    "import numpy as np\n",
    "from scipy.optimize import curve_fit\n",
    "x = [0,100,200,300,400,500]\n",
    "y = [0.7,0.95,1.4,1.8,2.25,2.45]\n",
    "w = [1.25,1.596, 2.042, 2.389, 3.085, 3.381]\n",
    "def line(x, a, b):\n",
    "    return(a*x + b)\n",
    "a,b = curve_fit(line, x, y,)[0]\n",
    "c,d = curve_fit(line, x, w,)[0]\n",
    "print(a, b)\n",
    "print(c, d)\n",
    "plt.plot(x, y, 'ko')\n",
    "plt.plot(x, w, 'ro')\n",
    "plt.xlabel('Mass(g)')\n",
    "plt.ylabel('Net Force(N)')\n",
    "plt.title('Static Friction Model')\n",
    "xx = np.linspace(0, 500, 5.0)\n",
    "plt.plot (xx,line(xx,a, b))\n",
    "plt.plot (xx,line(xx,c, d))\n",
    "plt.show()"
   ]
  },
  {
   "cell_type": "markdown",
   "metadata": {},
   "source": [
    "| m(g) | y(N) |\n",
    "|------|------|\n",
    "|0| 1.25|\n",
    "|100| 1.8|\n",
    "|200| 2.45|\n",
    "|300| 3|\n",
    "|400| 3.9|\n",
    "|500| 4.4|"
   ]
  },
  {
   "cell_type": "markdown",
   "metadata": {},
   "source": [
    "### Results"
   ]
  },
  {
   "cell_type": "markdown",
   "metadata": {},
   "source": [
    "After we conducted this lab, our linear function that we obtained for our static friction model on a flat surface was $$N=0.00372g+0.6595$$\n",
    "\n",
    "However, for our static friction model on an incline or slope, it was slightly different. It was also a linear funtion but the $a$ and $b$ value increased $$N=0.00645g+1.1857$$"
   ]
  },
  {
   "cell_type": "markdown",
   "metadata": {},
   "source": [
    "### Conclusion"
   ]
  },
  {
   "cell_type": "markdown",
   "metadata": {},
   "source": [
    "Our conclusion for this lab is that the more mass the object has, the more force is required to move the object. This means that there is more static friction relative to the object's weight. We also concluded that the increase in incline also increase the amount of force required to move it as well"
   ]
  }
 ],
 "metadata": {
  "kernelspec": {
   "display_name": "Python 3",
   "language": "python",
   "name": "python3"
  },
  "language_info": {
   "codemirror_mode": {
    "name": "ipython",
    "version": 3
   },
   "file_extension": ".py",
   "mimetype": "text/x-python",
   "name": "python",
   "nbconvert_exporter": "python",
   "pygments_lexer": "ipython3",
   "version": "3.4.4"
  }
 },
 "nbformat": 4,
 "nbformat_minor": 0
}
